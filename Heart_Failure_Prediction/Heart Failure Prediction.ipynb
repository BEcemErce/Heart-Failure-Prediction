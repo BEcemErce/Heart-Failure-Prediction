{
 "cells": [
  {
   "cell_type": "code",
   "execution_count": 3,
   "metadata": {},
   "outputs": [],
   "source": [
    "import pandas as pd\n",
    "import numpy as np \n",
    "import matplotlib.pyplot as plt\n",
    "import seaborn as sns\n",
    "import warnings\n",
    "warnings.filterwarnings(\"ignore\")\n"
   ]
  },
  {
   "cell_type": "code",
   "execution_count": 4,
   "metadata": {},
   "outputs": [],
   "source": [
    "df=pd.read_csv(\"heart_failure_clinical_records_dataset.csv\").copy()"
   ]
  },
  {
   "cell_type": "markdown",
   "metadata": {},
   "source": [
    "In this work we will predict heart failure. Here is the dataframe that we will work on. If the patient deceased during the follow-up period, it is 1. Otherwise, it is 0."
   ]
  },
  {
   "cell_type": "code",
   "execution_count": 214,
   "metadata": {
    "scrolled": true
   },
   "outputs": [
    {
     "data": {
      "text/html": [
       "<div>\n",
       "<style scoped>\n",
       "    .dataframe tbody tr th:only-of-type {\n",
       "        vertical-align: middle;\n",
       "    }\n",
       "\n",
       "    .dataframe tbody tr th {\n",
       "        vertical-align: top;\n",
       "    }\n",
       "\n",
       "    .dataframe thead th {\n",
       "        text-align: right;\n",
       "    }\n",
       "</style>\n",
       "<table border=\"1\" class=\"dataframe\">\n",
       "  <thead>\n",
       "    <tr style=\"text-align: right;\">\n",
       "      <th></th>\n",
       "      <th>age</th>\n",
       "      <th>anaemia</th>\n",
       "      <th>creatinine_phosphokinase</th>\n",
       "      <th>diabetes</th>\n",
       "      <th>ejection_fraction</th>\n",
       "      <th>high_blood_pressure</th>\n",
       "      <th>platelets</th>\n",
       "      <th>serum_creatinine</th>\n",
       "      <th>serum_sodium</th>\n",
       "      <th>sex</th>\n",
       "      <th>smoking</th>\n",
       "      <th>time</th>\n",
       "      <th>DEATH_EVENT</th>\n",
       "    </tr>\n",
       "  </thead>\n",
       "  <tbody>\n",
       "    <tr>\n",
       "      <th>0</th>\n",
       "      <td>75.0</td>\n",
       "      <td>0</td>\n",
       "      <td>582</td>\n",
       "      <td>0</td>\n",
       "      <td>20</td>\n",
       "      <td>1</td>\n",
       "      <td>265000.00</td>\n",
       "      <td>1.9</td>\n",
       "      <td>130</td>\n",
       "      <td>1</td>\n",
       "      <td>0</td>\n",
       "      <td>4</td>\n",
       "      <td>1</td>\n",
       "    </tr>\n",
       "    <tr>\n",
       "      <th>1</th>\n",
       "      <td>55.0</td>\n",
       "      <td>0</td>\n",
       "      <td>7861</td>\n",
       "      <td>0</td>\n",
       "      <td>38</td>\n",
       "      <td>0</td>\n",
       "      <td>263358.03</td>\n",
       "      <td>1.1</td>\n",
       "      <td>136</td>\n",
       "      <td>1</td>\n",
       "      <td>0</td>\n",
       "      <td>6</td>\n",
       "      <td>1</td>\n",
       "    </tr>\n",
       "    <tr>\n",
       "      <th>2</th>\n",
       "      <td>65.0</td>\n",
       "      <td>0</td>\n",
       "      <td>146</td>\n",
       "      <td>0</td>\n",
       "      <td>20</td>\n",
       "      <td>0</td>\n",
       "      <td>162000.00</td>\n",
       "      <td>1.3</td>\n",
       "      <td>129</td>\n",
       "      <td>1</td>\n",
       "      <td>1</td>\n",
       "      <td>7</td>\n",
       "      <td>1</td>\n",
       "    </tr>\n",
       "    <tr>\n",
       "      <th>3</th>\n",
       "      <td>50.0</td>\n",
       "      <td>1</td>\n",
       "      <td>111</td>\n",
       "      <td>0</td>\n",
       "      <td>20</td>\n",
       "      <td>0</td>\n",
       "      <td>210000.00</td>\n",
       "      <td>1.9</td>\n",
       "      <td>137</td>\n",
       "      <td>1</td>\n",
       "      <td>0</td>\n",
       "      <td>7</td>\n",
       "      <td>1</td>\n",
       "    </tr>\n",
       "    <tr>\n",
       "      <th>4</th>\n",
       "      <td>65.0</td>\n",
       "      <td>1</td>\n",
       "      <td>160</td>\n",
       "      <td>1</td>\n",
       "      <td>20</td>\n",
       "      <td>0</td>\n",
       "      <td>327000.00</td>\n",
       "      <td>2.7</td>\n",
       "      <td>116</td>\n",
       "      <td>0</td>\n",
       "      <td>0</td>\n",
       "      <td>8</td>\n",
       "      <td>1</td>\n",
       "    </tr>\n",
       "  </tbody>\n",
       "</table>\n",
       "</div>"
      ],
      "text/plain": [
       "    age  anaemia  creatinine_phosphokinase  diabetes  ejection_fraction  \\\n",
       "0  75.0        0                       582         0                 20   \n",
       "1  55.0        0                      7861         0                 38   \n",
       "2  65.0        0                       146         0                 20   \n",
       "3  50.0        1                       111         0                 20   \n",
       "4  65.0        1                       160         1                 20   \n",
       "\n",
       "   high_blood_pressure  platelets  serum_creatinine  serum_sodium  sex  \\\n",
       "0                    1  265000.00               1.9           130    1   \n",
       "1                    0  263358.03               1.1           136    1   \n",
       "2                    0  162000.00               1.3           129    1   \n",
       "3                    0  210000.00               1.9           137    1   \n",
       "4                    0  327000.00               2.7           116    0   \n",
       "\n",
       "   smoking  time  DEATH_EVENT  \n",
       "0        0     4            1  \n",
       "1        0     6            1  \n",
       "2        1     7            1  \n",
       "3        0     7            1  \n",
       "4        0     8            1  "
      ]
     },
     "execution_count": 214,
     "metadata": {},
     "output_type": "execute_result"
    }
   ],
   "source": [
    "df.head()"
   ]
  },
  {
   "cell_type": "markdown",
   "metadata": {},
   "source": [
    "If we look the information of the columns, we see that there is no null variables.(There is 299 sample and all of the columns have 299 non-null)."
   ]
  },
  {
   "cell_type": "code",
   "execution_count": 137,
   "metadata": {
    "scrolled": true
   },
   "outputs": [
    {
     "name": "stdout",
     "output_type": "stream",
     "text": [
      "<class 'pandas.core.frame.DataFrame'>\n",
      "RangeIndex: 299 entries, 0 to 298\n",
      "Data columns (total 13 columns):\n",
      " #   Column                    Non-Null Count  Dtype  \n",
      "---  ------                    --------------  -----  \n",
      " 0   age                       299 non-null    float64\n",
      " 1   anaemia                   299 non-null    int64  \n",
      " 2   creatinine_phosphokinase  299 non-null    int64  \n",
      " 3   diabetes                  299 non-null    int64  \n",
      " 4   ejection_fraction         299 non-null    int64  \n",
      " 5   high_blood_pressure       299 non-null    int64  \n",
      " 6   platelets                 299 non-null    float64\n",
      " 7   serum_creatinine          299 non-null    float64\n",
      " 8   serum_sodium              299 non-null    int64  \n",
      " 9   sex                       299 non-null    int64  \n",
      " 10  smoking                   299 non-null    int64  \n",
      " 11  time                      299 non-null    int64  \n",
      " 12  DEATH_EVENT               299 non-null    int64  \n",
      "dtypes: float64(3), int64(10)\n",
      "memory usage: 30.5 KB\n"
     ]
    }
   ],
   "source": [
    "df.info()"
   ]
  },
  {
   "cell_type": "markdown",
   "metadata": {},
   "source": [
    "## DATA ANALYSIS"
   ]
  },
  {
   "cell_type": "markdown",
   "metadata": {},
   "source": [
    "### Target Variable"
   ]
  },
  {
   "cell_type": "markdown",
   "metadata": {},
   "source": [
    "The target variable \"DEATH_EVENT\" has 0 observations more than 1."
   ]
  },
  {
   "cell_type": "code",
   "execution_count": 3,
   "metadata": {},
   "outputs": [
    {
     "name": "stdout",
     "output_type": "stream",
     "text": [
      "203\n",
      "96\n"
     ]
    }
   ],
   "source": [
    "print(df[\"DEATH_EVENT\"][df[\"DEATH_EVENT\"]==0].count())\n",
    "print(df[\"DEATH_EVENT\"][df[\"DEATH_EVENT\"]==1].count())"
   ]
  },
  {
   "cell_type": "code",
   "execution_count": 18,
   "metadata": {},
   "outputs": [
    {
     "data": {
      "text/plain": [
       "<matplotlib.axes._subplots.AxesSubplot at 0xbfcc5c8>"
      ]
     },
     "execution_count": 18,
     "metadata": {},
     "output_type": "execute_result"
    },
    {
     "data": {
      "image/png": "[encoded data removed]",
      "text/plain": [
       "<Figure size 432x288 with 1 Axes>"
      ]
     },
     "metadata": {
      "needs_background": "light"
     },
     "output_type": "display_data"
    }
   ],
   "source": [
    "sns.countplot(\"DEATH_EVENT\", data=df, palette=\"Set3\")"
   ]
  },
  {
   "cell_type": "markdown",
   "metadata": {},
   "source": [
    "### Categorical Variables"
   ]
  },
  {
   "cell_type": "markdown",
   "metadata": {},
   "source": [
    "We can see in the dataframe,the columns \"anaemia\", \"diabetes\", \"high_blood_pressure\", \"sex\", \"smoking\" are categorical variables. Now, we will apply chi-square test for figuring out the association between these variables and target variable. In the result, if p value>0.05 (for alpha = 5%) it means we don't have evidence to believe that there is association between target and that categorical variable. Namely, they are independent. We can ignore that variable because if they dont have any effect on target, keeping them is not useful."
   ]
  },
  {
   "cell_type": "code",
   "execution_count": 5,
   "metadata": {},
   "outputs": [],
   "source": [
    "cat_columns=[\"anaemia\",\"diabetes\",\"high_blood_pressure\",\"sex\",\"smoking\"]"
   ]
  },
  {
   "cell_type": "code",
   "execution_count": 20,
   "metadata": {},
   "outputs": [
    {
     "name": "stdout",
     "output_type": "stream",
     "text": [
      "Chi-Square Test Between \u001b[4m DEATH_EVENT \u001b[0m and \u001b[4m anaemia \u001b[0m \n",
      "\n",
      "Chi= 1.042175485287005 \u001b[1m p_value= 0.3073160508415107 \u001b[0m \n",
      "\n",
      "Chi-Square Test Between \u001b[4m DEATH_EVENT \u001b[0m and \u001b[4m diabetes \u001b[0m \n",
      "\n",
      "Chi= 0.008458101537285573 \u001b[1m p_value= 0.9267235137291102 \u001b[0m \n",
      "\n",
      "Chi-Square Test Between \u001b[4m DEATH_EVENT \u001b[0m and \u001b[4m high_blood_pressure \u001b[0m \n",
      "\n",
      "Chi= 1.5434607612967581 \u001b[1m p_value= 0.21410341199416902 \u001b[0m \n",
      "\n",
      "Chi-Square Test Between \u001b[4m DEATH_EVENT \u001b[0m and \u001b[4m sex \u001b[0m \n",
      "\n",
      "Chi= 0.003037108721613983 \u001b[1m p_value= 0.9560508538247334 \u001b[0m \n",
      "\n",
      "Chi-Square Test Between \u001b[4m DEATH_EVENT \u001b[0m and \u001b[4m smoking \u001b[0m \n",
      "\n",
      "Chi= 0.007331473567119502 \u001b[1m p_value= 0.9317652998235507 \u001b[0m \n",
      "\n"
     ]
    }
   ],
   "source": [
    "import scipy.stats\n",
    "for i in cat_columns:  \n",
    "    print(\"Chi-Square Test Between\", \"\\033[4m\", \"DEATH_EVENT\",\"\\033[0m\",\"and\",\"\\033[4m\",i,'\\033[0m',\"\\n\")\n",
    "    cross=pd.crosstab(index=df[\"DEATH_EVENT\"], columns=df[i])\n",
    "    chi2,p,dof,expected= scipy.stats.chi2_contingency(cross)\n",
    "    print(\"Chi=\", chi2, \"\\033[1m\", \"p_value=\", p,\"\\033[0m\", \"\\n\")\n",
    " "
   ]
  },
  {
   "cell_type": "markdown",
   "metadata": {},
   "source": [
    "All categoric variables has p-value that is greater than 0.05, so we will not use any of them.\n",
    "We can explain it like this; for example, we take the \"diabetes\" variable, we find the cross table of it below. \n",
    "Look at the numbers, if a sample is not diabete(0), the probability of deadth is 56/174=0.3218.\n",
    "Otherhand, if the sample is diabete(1), the probability of death is 40/125= 0.32.\n",
    "So, whether the sample is diabete or not, the probability of dead is equal. So diabete is not effect on the death."
   ]
  },
  {
   "cell_type": "code",
   "execution_count": 9,
   "metadata": {},
   "outputs": [
    {
     "name": "stdout",
     "output_type": "stream",
     "text": [
      "diabetes       0   1\n",
      "DEATH_EVENT         \n",
      "0            118  85\n",
      "1             56  40\n"
     ]
    }
   ],
   "source": [
    "cross=pd.crosstab(index=df[\"DEATH_EVENT\"], columns=df[\"diabetes\"])\n",
    "print(cross)"
   ]
  },
  {
   "cell_type": "code",
   "execution_count": 10,
   "metadata": {},
   "outputs": [
    {
     "data": {
      "image/png": "[encoded data removed]",
      "text/plain": [
       "<Figure size 432x288 with 1 Axes>"
      ]
     },
     "metadata": {
      "needs_background": "light"
     },
     "output_type": "display_data"
    }
   ],
   "source": [
    "sns.countplot(\"diabetes\", hue=\"DEATH_EVENT\",data=df,palette=\"Set3\")\n",
    "plt.show()"
   ]
  },
  {
   "cell_type": "markdown",
   "metadata": {},
   "source": [
    "### Numeric Varibales"
   ]
  },
  {
   "cell_type": "markdown",
   "metadata": {},
   "source": [
    "Because of the all categorical data has no effect on the target, we will continue with the numeric data."
   ]
  },
  {
   "cell_type": "code",
   "execution_count": 6,
   "metadata": {},
   "outputs": [],
   "source": [
    "num_data=df.drop(cat_columns,axis=1)\n",
    "target=num_data[\"DEATH_EVENT\"]\n",
    "num_corr=num_data.drop(\"DEATH_EVENT\", axis=1)"
   ]
  },
  {
   "cell_type": "markdown",
   "metadata": {},
   "source": [
    "#### Correlation Matrix"
   ]
  },
  {
   "cell_type": "markdown",
   "metadata": {},
   "source": [
    " First, we will find the correlation in between numeric variables. If there is a any high correlaton (negative or positive) in between two variable, we will use one of them. \n",
    " As you can see in the correlation table there is no high correlation in  between variables. We can use all of them."
   ]
  },
  {
   "cell_type": "code",
   "execution_count": 24,
   "metadata": {
    "scrolled": false
   },
   "outputs": [
    {
     "data": {
      "image/png": "[encoded data removed]",
      "text/plain": [
       "<Figure size 504x504 with 2 Axes>"
      ]
     },
     "metadata": {
      "needs_background": "light"
     },
     "output_type": "display_data"
    }
   ],
   "source": [
    "corr=num_corr.corr()\n",
    "fig,ax = plt.subplots(figsize=(7, 7))\n",
    "sns.heatmap(corr, ax=ax, annot=True, linewidths=0.05, fmt= '.2f',cmap=\"GnBu\")\n",
    "plt.show()"
   ]
  },
  {
   "cell_type": "markdown",
   "metadata": {},
   "source": [
    "#### t-test"
   ]
  },
  {
   "cell_type": "markdown",
   "metadata": {},
   "source": [
    "Now, we will do t-test between numeric variables and target. Result of this will show us the dependence between of them.\n",
    "In the two sample t-test, null hypotesis, H0, says that \"the means of two samples are equal\". So, if p-value<0.05, H0 is rejected. It means they have different mean, so there is a meaningful difference between of them. They are dependent. We will eliminate the variables that have p-value>0.05, because they are not dependent on target."
   ]
  },
  {
   "cell_type": "code",
   "execution_count": 25,
   "metadata": {},
   "outputs": [],
   "source": [
    "def two_sample_t_test(cl1,cl2, data):\n",
    "        import scipy.stats as stats\n",
    "        from pandas import Series\n",
    "        A=Series(data[cl1].iloc[:][data[cl2]==1])\n",
    "        B=Series(data[cl1].iloc[:][data[cl2]==0])\n",
    "        print(\"\\033[1m\",\"'{}' - '{}'\". format(cl1,cl2),\"\\033[0m\")\n",
    "                       \n",
    "        stat, p=stats.levene(A,B)\n",
    "       \n",
    "        if p<0.05:\n",
    "            var=False\n",
    "        else:\n",
    "            var=True\n",
    "        print(\"RESULT:\")\n",
    "        stat, p=stats.ttest_ind(A,B, equal_var=var)\n",
    "        print(\"\\033[1m\",\"p-val=\",p,\"\\033[0m\")\n",
    "        if p<0.05:\n",
    "            print(\"\\033[1m\",\"H0--> Reject. They have different mean\\n\",\"\\033[0m\")\n",
    "        else:\n",
    "            print(\"\\033[1m\",\"H0--> Fail to Reject.\\n\",\"\\033[0m\")"
   ]
  },
  {
   "cell_type": "code",
   "execution_count": 26,
   "metadata": {
    "scrolled": true
   },
   "outputs": [
    {
     "name": "stdout",
     "output_type": "stream",
     "text": [
      "\u001b[1m 'age' - 'DEATH_EVENT' \u001b[0m\n",
      "RESULT:\n",
      "\u001b[1m p-val= 4.735214517659265e-05 \u001b[0m\n",
      "\u001b[1m H0--> Reject. They have different mean\n",
      " \u001b[0m\n",
      "\u001b[1m 'creatinine_phosphokinase' - 'DEATH_EVENT' \u001b[0m\n",
      "RESULT:\n",
      "\u001b[1m p-val= 0.27961124573614 \u001b[0m\n",
      "\u001b[1m H0--> Fail to Reject.\n",
      " \u001b[0m\n",
      "\u001b[1m 'ejection_fraction' - 'DEATH_EVENT' \u001b[0m\n",
      "RESULT:\n",
      "\u001b[1m p-val= 2.452897418208845e-06 \u001b[0m\n",
      "\u001b[1m H0--> Reject. They have different mean\n",
      " \u001b[0m\n",
      "\u001b[1m 'platelets' - 'DEATH_EVENT' \u001b[0m\n",
      "RESULT:\n",
      "\u001b[1m p-val= 0.3971941540413678 \u001b[0m\n",
      "\u001b[1m H0--> Fail to Reject.\n",
      " \u001b[0m\n",
      "\u001b[1m 'serum_creatinine' - 'DEATH_EVENT' \u001b[0m\n",
      "RESULT:\n",
      "\u001b[1m p-val= 6.398962339971595e-05 \u001b[0m\n",
      "\u001b[1m H0--> Reject. They have different mean\n",
      " \u001b[0m\n",
      "\u001b[1m 'serum_sodium' - 'DEATH_EVENT' \u001b[0m\n",
      "RESULT:\n",
      "\u001b[1m p-val= 0.001872324830123234 \u001b[0m\n",
      "\u001b[1m H0--> Reject. They have different mean\n",
      " \u001b[0m\n",
      "\u001b[1m 'time' - 'DEATH_EVENT' \u001b[0m\n",
      "RESULT:\n",
      "\u001b[1m p-val= 2.3432761217969127e-22 \u001b[0m\n",
      "\u001b[1m H0--> Reject. They have different mean\n",
      " \u001b[0m\n",
      "\u001b[1m 'DEATH_EVENT' - 'DEATH_EVENT' \u001b[0m\n",
      "RESULT:\n",
      "\u001b[1m p-val= 0.0 \u001b[0m\n",
      "\u001b[1m H0--> Reject. They have different mean\n",
      " \u001b[0m\n"
     ]
    },
    {
     "name": "stderr",
     "output_type": "stream",
     "text": [
      "C:\\Anaconda3\\lib\\site-packages\\scipy\\stats\\morestats.py:2417: RuntimeWarning: invalid value encountered in double_scalars\n",
      "  W = numer / denom\n",
      "C:\\Anaconda3\\lib\\site-packages\\scipy\\stats\\_distn_infrastructure.py:1932: RuntimeWarning: invalid value encountered in less_equal\n",
      "  cond2 = cond0 & (x <= _a)\n"
     ]
    }
   ],
   "source": [
    "for col in num_data.columns:\n",
    "    two_sample_t_test(col,\"DEATH_EVENT\",num_data)"
   ]
  },
  {
   "cell_type": "markdown",
   "metadata": {},
   "source": [
    "In the result of t-test, the variables \"creatinine_phosphokinase\", \"platelets\" have p-values greater than 0.05. As you can see in the box plots, for both of the variables, the mean are the same wheter it is dead or not. These variables independent from target. So, we will not use them for model."
   ]
  },
  {
   "cell_type": "code",
   "execution_count": 33,
   "metadata": {
    "scrolled": true
   },
   "outputs": [
    {
     "data": {
      "text/plain": [
       "<matplotlib.axes._subplots.AxesSubplot at 0xc3e4388>"
      ]
     },
     "execution_count": 33,
     "metadata": {},
     "output_type": "execute_result"
    },
    {
     "data": {
      "image/png": "[encoded data removed]",
      "text/plain": [
       "<Figure size 360x360 with 1 Axes>"
      ]
     },
     "metadata": {
      "needs_background": "light"
     },
     "output_type": "display_data"
    }
   ],
   "source": [
    "plt.figure(figsize=(5,5))\n",
    "sns.boxplot(x=\"DEATH_EVENT\",y=\"platelets\", data=df, palette=[\"lightblue\", \"pink\"])"
   ]
  },
  {
   "cell_type": "markdown",
   "metadata": {},
   "source": [
    "For example, if we look at the age-dead_event association, we can see that, \"DEATH_EVENT\" values that are 1, has greater age mean. "
   ]
  },
  {
   "cell_type": "code",
   "execution_count": 34,
   "metadata": {},
   "outputs": [
    {
     "data": {
      "text/plain": [
       "<matplotlib.axes._subplots.AxesSubplot at 0x693ebc8>"
      ]
     },
     "execution_count": 34,
     "metadata": {},
     "output_type": "execute_result"
    },
    {
     "data": {
      "image/png": "[encoded data removed]",
      "text/plain": [
       "<Figure size 432x288 with 1 Axes>"
      ]
     },
     "metadata": {
      "needs_background": "light"
     },
     "output_type": "display_data"
    }
   ],
   "source": [
    "sns.boxplot(x=\"DEATH_EVENT\",y=\"age\", data=df, palette=[\"lightblue\", \"pink\"])"
   ]
  },
  {
   "cell_type": "code",
   "execution_count": 7,
   "metadata": {},
   "outputs": [],
   "source": [
    "num_selected=num_data[[\"age\",\"ejection_fraction\",\"serum_creatinine\",\"serum_sodium\",\"time\"]].copy() \n",
    "# new numeric data without \"creatinine_phosphokinase\" and \"platelets\"."
   ]
  },
  {
   "cell_type": "markdown",
   "metadata": {},
   "source": [
    "#### Outliers"
   ]
  },
  {
   "cell_type": "markdown",
   "metadata": {},
   "source": [
    "Now we will look at the outliers. \"serum_creatinine\" and \"serum_sodium\" seems like they have a lot of outliers but if we search about these variables, outliers of them are not abnormal values. For example, serum creatinine value is normal value up to 10 mg/dL . This also applies to the serum_sodium variable . So, we will not delete them."
   ]
  },
  {
   "cell_type": "code",
   "execution_count": 35,
   "metadata": {
    "scrolled": false
   },
   "outputs": [
    {
     "data": {
      "image/png": "[encoded data removed]",
      "text/plain": [
       "<Figure size 432x288 with 1 Axes>"
      ]
     },
     "metadata": {
      "needs_background": "light"
     },
     "output_type": "display_data"
    },
    {
     "data": {
      "image/png": "[encoded data removed]",
      "text/plain": [
       "<Figure size 432x288 with 1 Axes>"
      ]
     },
     "metadata": {
      "needs_background": "light"
     },
     "output_type": "display_data"
    },
    {
     "data": {
      "image/png": "[encoded data removed]",
      "text/plain": [
       "<Figure size 432x288 with 1 Axes>"
      ]
     },
     "metadata": {
      "needs_background": "light"
     },
     "output_type": "display_data"
    },
    {
     "data": {
      "image/png": "[encoded data removed]",
      "text/plain": [
       "<Figure size 432x288 with 1 Axes>"
      ]
     },
     "metadata": {
      "needs_background": "light"
     },
     "output_type": "display_data"
    },
    {
     "data": {
      "image/png": "[encoded data removed]",
      "text/plain": [
       "<Figure size 432x288 with 1 Axes>"
      ]
     },
     "metadata": {
      "needs_background": "light"
     },
     "output_type": "display_data"
    }
   ],
   "source": [
    "for i in num_selected.columns:\n",
    "    sns.boxplot(num_selected[i],palette=[\"lightblue\"])   \n",
    "    plt.show()"
   ]
  },
  {
   "cell_type": "markdown",
   "metadata": {},
   "source": [
    "#### Train- Test Split"
   ]
  },
  {
   "cell_type": "code",
   "execution_count": 46,
   "metadata": {},
   "outputs": [],
   "source": [
    "from sklearn.model_selection import train_test_split\n",
    "X_train, X_test, y_train, y_test= train_test_split(num_selected,target,test_size=0.30, random_state=42)"
   ]
  },
  {
   "cell_type": "markdown",
   "metadata": {},
   "source": [
    "#### Scaling "
   ]
  },
  {
   "cell_type": "markdown",
   "metadata": {},
   "source": [
    "Look at the data, the unit of values different. So, we will scale them."
   ]
  },
  {
   "cell_type": "code",
   "execution_count": 36,
   "metadata": {},
   "outputs": [
    {
     "data": {
      "text/html": [
       "<div>\n",
       "<style scoped>\n",
       "    .dataframe tbody tr th:only-of-type {\n",
       "        vertical-align: middle;\n",
       "    }\n",
       "\n",
       "    .dataframe tbody tr th {\n",
       "        vertical-align: top;\n",
       "    }\n",
       "\n",
       "    .dataframe thead th {\n",
       "        text-align: right;\n",
       "    }\n",
       "</style>\n",
       "<table border=\"1\" class=\"dataframe\">\n",
       "  <thead>\n",
       "    <tr style=\"text-align: right;\">\n",
       "      <th></th>\n",
       "      <th>age</th>\n",
       "      <th>ejection_fraction</th>\n",
       "      <th>serum_creatinine</th>\n",
       "      <th>serum_sodium</th>\n",
       "      <th>time</th>\n",
       "    </tr>\n",
       "  </thead>\n",
       "  <tbody>\n",
       "    <tr>\n",
       "      <th>225</th>\n",
       "      <td>75.0</td>\n",
       "      <td>60</td>\n",
       "      <td>1.4</td>\n",
       "      <td>125</td>\n",
       "      <td>205</td>\n",
       "    </tr>\n",
       "    <tr>\n",
       "      <th>78</th>\n",
       "      <td>75.0</td>\n",
       "      <td>38</td>\n",
       "      <td>0.6</td>\n",
       "      <td>131</td>\n",
       "      <td>74</td>\n",
       "    </tr>\n",
       "    <tr>\n",
       "      <th>66</th>\n",
       "      <td>42.0</td>\n",
       "      <td>15</td>\n",
       "      <td>1.3</td>\n",
       "      <td>136</td>\n",
       "      <td>65</td>\n",
       "    </tr>\n",
       "    <tr>\n",
       "      <th>296</th>\n",
       "      <td>45.0</td>\n",
       "      <td>60</td>\n",
       "      <td>0.8</td>\n",
       "      <td>138</td>\n",
       "      <td>278</td>\n",
       "    </tr>\n",
       "    <tr>\n",
       "      <th>192</th>\n",
       "      <td>50.0</td>\n",
       "      <td>40</td>\n",
       "      <td>0.7</td>\n",
       "      <td>130</td>\n",
       "      <td>175</td>\n",
       "    </tr>\n",
       "  </tbody>\n",
       "</table>\n",
       "</div>"
      ],
      "text/plain": [
       "      age  ejection_fraction  serum_creatinine  serum_sodium  time\n",
       "225  75.0                 60               1.4           125   205\n",
       "78   75.0                 38               0.6           131    74\n",
       "66   42.0                 15               1.3           136    65\n",
       "296  45.0                 60               0.8           138   278\n",
       "192  50.0                 40               0.7           130   175"
      ]
     },
     "execution_count": 36,
     "metadata": {},
     "output_type": "execute_result"
    }
   ],
   "source": [
    "X_train.head()"
   ]
  },
  {
   "cell_type": "code",
   "execution_count": 47,
   "metadata": {},
   "outputs": [],
   "source": [
    "X_train_scaled=X_train.copy()\n",
    "X_test_scaled=X_test.copy()"
   ]
  },
  {
   "cell_type": "code",
   "execution_count": 48,
   "metadata": {},
   "outputs": [],
   "source": [
    "from sklearn.preprocessing import StandardScaler\n",
    "for i in X_train_scaled.columns:\n",
    "    scaler=StandardScaler().fit(X_train[[i]])\n",
    "    X_train_scaled[i]=scaler.transform(X_train[[i]])\n",
    "    X_test_scaled[i]=scaler.transform(X_test[[i]])"
   ]
  },
  {
   "cell_type": "code",
   "execution_count": 12,
   "metadata": {
    "scrolled": false
   },
   "outputs": [
    {
     "data": {
      "text/html": [
       "<div>\n",
       "<style scoped>\n",
       "    .dataframe tbody tr th:only-of-type {\n",
       "        vertical-align: middle;\n",
       "    }\n",
       "\n",
       "    .dataframe tbody tr th {\n",
       "        vertical-align: top;\n",
       "    }\n",
       "\n",
       "    .dataframe thead th {\n",
       "        text-align: right;\n",
       "    }\n",
       "</style>\n",
       "<table border=\"1\" class=\"dataframe\">\n",
       "  <thead>\n",
       "    <tr style=\"text-align: right;\">\n",
       "      <th></th>\n",
       "      <th>age</th>\n",
       "      <th>ejection_fraction</th>\n",
       "      <th>serum_creatinine</th>\n",
       "      <th>serum_sodium</th>\n",
       "      <th>time</th>\n",
       "    </tr>\n",
       "  </thead>\n",
       "  <tbody>\n",
       "    <tr>\n",
       "      <th>197</th>\n",
       "      <td>0.327183</td>\n",
       "      <td>-0.696584</td>\n",
       "      <td>-0.591832</td>\n",
       "      <td>0.328617</td>\n",
       "      <td>0.670985</td>\n",
       "    </tr>\n",
       "    <tr>\n",
       "      <th>210</th>\n",
       "      <td>0.747895</td>\n",
       "      <td>-1.815320</td>\n",
       "      <td>-0.385454</td>\n",
       "      <td>-0.122565</td>\n",
       "      <td>0.696660</td>\n",
       "    </tr>\n",
       "    <tr>\n",
       "      <th>288</th>\n",
       "      <td>0.327183</td>\n",
       "      <td>-0.266301</td>\n",
       "      <td>-0.282266</td>\n",
       "      <td>1.230982</td>\n",
       "      <td>1.569607</td>\n",
       "    </tr>\n",
       "    <tr>\n",
       "      <th>219</th>\n",
       "      <td>-0.514240</td>\n",
       "      <td>-0.266301</td>\n",
       "      <td>-0.695020</td>\n",
       "      <td>0.779799</td>\n",
       "      <td>0.812197</td>\n",
       "    </tr>\n",
       "    <tr>\n",
       "      <th>178</th>\n",
       "      <td>0.158898</td>\n",
       "      <td>1.885114</td>\n",
       "      <td>-0.179077</td>\n",
       "      <td>1.907755</td>\n",
       "      <td>0.170324</td>\n",
       "    </tr>\n",
       "  </tbody>\n",
       "</table>\n",
       "</div>"
      ],
      "text/plain": [
       "          age  ejection_fraction  serum_creatinine  serum_sodium      time\n",
       "197  0.327183          -0.696584         -0.591832      0.328617  0.670985\n",
       "210  0.747895          -1.815320         -0.385454     -0.122565  0.696660\n",
       "288  0.327183          -0.266301         -0.282266      1.230982  1.569607\n",
       "219 -0.514240          -0.266301         -0.695020      0.779799  0.812197\n",
       "178  0.158898           1.885114         -0.179077      1.907755  0.170324"
      ]
     },
     "execution_count": 12,
     "metadata": {},
     "output_type": "execute_result"
    }
   ],
   "source": [
    "X_train_scaled.head()"
   ]
  },
  {
   "cell_type": "markdown",
   "metadata": {},
   "source": [
    "After scaling, their units become more regular."
   ]
  },
  {
   "cell_type": "markdown",
   "metadata": {},
   "source": [
    "### MODELS"
   ]
  },
  {
   "cell_type": "markdown",
   "metadata": {},
   "source": [
    "First of all, I will write a method that allows us to access all result information of the models. It will give us train-test scores, cross-validation results and ROC Curves."
   ]
  },
  {
   "cell_type": "code",
   "execution_count": 11,
   "metadata": {},
   "outputs": [],
   "source": [
    "def result(model,X_train,X_test,y_train,y_test):\n",
    "    print( \"\\033[1m\",\"         ****** RESULT ****** \", \"\\033[0;0m\")\n",
    "    y_pred = model.predict(X_test)\n",
    "    print(\"\\033[1m\",\"TEST Accuracy=\",\"\\033[0m\",accuracy_score(y_test, y_pred))\n",
    "    print(\"\\033[1m\",\"TEST Report=\\n\",\"\\033[0m\",classification_report(y_test,model.predict(X_test)),\"\\n\")\n",
    "    y_pred = model.predict(X_train)\n",
    "    print(\"\\033[1m\",\"TRAIN Accuracy=\",\"\\033[0m\",accuracy_score(y_train, y_pred))\n",
    "    print(\"\\033[1m\",\"TRAIN Report=\\n\",\"\\033[0m\",classification_report(y_train,model.predict(X_train)),\"\\n\")\n",
    "    \n",
    "    print(\"\\033[1m\",\"Cross Validation TEST:\\n\",\"\\033[0m\",cross_val_score(model, X_test, y_test, cv = 5).mean())    \n",
    "    print(\"\\033[1m\",\"Cross Validation TRAIN:\\n\",\"\\033[0m\",cross_val_score(model, X_train, y_train, cv = 5).mean(),\"\\n\")\n",
    "    print(\"\\033[1m\",\"ROC CURVES\",\"\\033[0m\")\n",
    "    nb_roc_auc=roc_auc_score(y_test,model.predict(X_test))\n",
    "    fpr, tpr, thresholds = roc_curve(y_test, model.predict_proba(X_test)[:,1])\n",
    "    plt.figure()\n",
    "    plt.plot(fpr, tpr, label='AUC (area = %0.2f)' % nb_roc_auc)\n",
    "    plt.plot([0, 1], [0, 1],'r--')\n",
    "    plt.xlim([0.0, 1.0])\n",
    "    plt.ylim([0.0, 1.05])\n",
    "    plt.xlabel('False Positive ')\n",
    "    plt.ylabel('True Positive ')\n",
    "    plt.title('ROC-TEST')\n",
    "    plt.show()\n",
    "    nb_roc_auc=roc_auc_score(y_train,model.predict(X_train))\n",
    "    fpr, tpr, thresholds = roc_curve(y_train, model.predict_proba(X_train)[:,1])\n",
    "    plt.figure()\n",
    "    plt.plot(fpr, tpr, label='AUC (area = %0.2f)' % nb_roc_auc)\n",
    "    plt.plot([0, 1], [0, 1],'r--')\n",
    "    plt.xlim([0.0, 1.0])\n",
    "    plt.ylim([0.0, 1.05])\n",
    "    plt.xlabel('False Positive ')\n",
    "    plt.ylabel('True Positive ')\n",
    "    plt.title('ROC-TRAIN')\n",
    "    plt.show() \n",
    "   "
   ]
  },
  {
   "cell_type": "markdown",
   "metadata": {},
   "source": [
    "#### LOGISTIC REGRESSION"
   ]
  },
  {
   "cell_type": "code",
   "execution_count": 12,
   "metadata": {},
   "outputs": [],
   "source": [
    "from sklearn.linear_model import LogisticRegression\n",
    "from sklearn.metrics import plot_confusion_matrix\n",
    "from sklearn.metrics import confusion_matrix, accuracy_score, classification_report, roc_auc_score,roc_curve\n",
    "from sklearn.model_selection import GridSearchCV, cross_val_score"
   ]
  },
  {
   "cell_type": "code",
   "execution_count": 39,
   "metadata": {},
   "outputs": [],
   "source": [
    "logreg=LogisticRegression()\n",
    "model=logreg.fit(X_train_scaled,y_train)"
   ]
  },
  {
   "cell_type": "code",
   "execution_count": 40,
   "metadata": {
    "scrolled": true
   },
   "outputs": [
    {
     "name": "stdout",
     "output_type": "stream",
     "text": [
      "\u001b[1m          ****** RESULT ******  \u001b[0;0m\n",
      "\u001b[1m TEST Accuracy= \u001b[0m 0.7733333333333333\n",
      "\u001b[1m TEST Report=\n",
      " \u001b[0m               precision    recall  f1-score   support\n",
      "\n",
      "           0       0.75      0.93      0.83        44\n",
      "           1       0.85      0.55      0.67        31\n",
      "\n",
      "    accuracy                           0.77        75\n",
      "   macro avg       0.80      0.74      0.75        75\n",
      "weighted avg       0.79      0.77      0.76        75\n",
      " \n",
      "\n",
      "\u001b[1m TRAIN Accuracy= \u001b[0m 0.8571428571428571\n",
      "\u001b[1m TRAIN Report=\n",
      " \u001b[0m               precision    recall  f1-score   support\n",
      "\n",
      "           0       0.89      0.91      0.90       159\n",
      "           1       0.77      0.72      0.75        65\n",
      "\n",
      "    accuracy                           0.86       224\n",
      "   macro avg       0.83      0.82      0.82       224\n",
      "weighted avg       0.86      0.86      0.86       224\n",
      " \n",
      "\n",
      "\u001b[1m Cross Validation TEST:\n",
      " \u001b[0m 0.76\n",
      "\u001b[1m Cross Validation TRAIN:\n",
      " \u001b[0m 0.847979797979798 \n",
      "\n",
      "\u001b[1m ROC CURVES \u001b[0m\n"
     ]
    },
    {
     "data": {
      "image/png": "[encoded data removed]",
      "text/plain": [
       "<Figure size 432x288 with 1 Axes>"
      ]
     },
     "metadata": {
      "needs_background": "light"
     },
     "output_type": "display_data"
    },
    {
     "data": {
      "image/png": "[encoded data removed]",
      "text/plain": [
       "<Figure size 432x288 with 1 Axes>"
      ]
     },
     "metadata": {
      "needs_background": "light"
     },
     "output_type": "display_data"
    }
   ],
   "source": [
    "result(logreg,X_train_scaled,X_test_scaled,y_train,y_test)"
   ]
  },
  {
   "cell_type": "markdown",
   "metadata": {},
   "source": [
    "#### Linear SVC"
   ]
  },
  {
   "cell_type": "markdown",
   "metadata": {},
   "source": [
    "LinearSVC has no function of predict_proba, so we will use CalibratedClassifierCV for getting probabilities."
   ]
  },
  {
   "cell_type": "code",
   "execution_count": 52,
   "metadata": {},
   "outputs": [
    {
     "data": {
      "text/plain": [
       "CalibratedClassifierCV(base_estimator=LinearSVC())"
      ]
     },
     "execution_count": 52,
     "metadata": {},
     "output_type": "execute_result"
    }
   ],
   "source": [
    "from sklearn.svm import LinearSVC\n",
    "from sklearn.calibration import CalibratedClassifierCV\n",
    "svm = LinearSVC()\n",
    "clf = CalibratedClassifierCV(svm) \n",
    "clf.fit(X_train_scaled, y_train)"
   ]
  },
  {
   "cell_type": "code",
   "execution_count": 53,
   "metadata": {
    "scrolled": true
   },
   "outputs": [
    {
     "name": "stdout",
     "output_type": "stream",
     "text": [
      "\u001b[1m          ****** RESULT ******  \u001b[0;0m\n",
      "\u001b[1m TEST Accuracy= \u001b[0m 0.7777777777777778\n",
      "\u001b[1m TEST Report=\n",
      " \u001b[0m               precision    recall  f1-score   support\n",
      "\n",
      "           0       0.75      0.92      0.83        53\n",
      "           1       0.84      0.57      0.68        37\n",
      "\n",
      "    accuracy                           0.78        90\n",
      "   macro avg       0.80      0.75      0.75        90\n",
      "weighted avg       0.79      0.78      0.77        90\n",
      " \n",
      "\n",
      "\u001b[1m TRAIN Accuracy= \u001b[0m 0.8755980861244019\n",
      "\u001b[1m TRAIN Report=\n",
      " \u001b[0m               precision    recall  f1-score   support\n",
      "\n",
      "           0       0.89      0.94      0.92       150\n",
      "           1       0.82      0.71      0.76        59\n",
      "\n",
      "    accuracy                           0.88       209\n",
      "   macro avg       0.86      0.83      0.84       209\n",
      "weighted avg       0.87      0.88      0.87       209\n",
      " \n",
      "\n",
      "\u001b[1m Cross Validation TEST:\n",
      " \u001b[0m 0.7666666666666667\n",
      "\u001b[1m Cross Validation TRAIN:\n",
      " \u001b[0m 0.8371660859465738 \n",
      "\n",
      "\u001b[1m ROC CURVES \u001b[0m\n"
     ]
    },
    {
     "data": {
      "image/png": "[encoded data removed]",
      "text/plain": [
       "<Figure size 432x288 with 1 Axes>"
      ]
     },
     "metadata": {
      "needs_background": "light"
     },
     "output_type": "display_data"
    },
    {
     "data": {
      "image/png": "[encoded data removed]",
      "text/plain": [
       "<Figure size 432x288 with 1 Axes>"
      ]
     },
     "metadata": {
      "needs_background": "light"
     },
     "output_type": "display_data"
    }
   ],
   "source": [
    "result(clf,X_train_scaled,X_test_scaled,y_train,y_test)"
   ]
  },
  {
   "cell_type": "markdown",
   "metadata": {},
   "source": [
    "#### NAIVE BAYES"
   ]
  },
  {
   "cell_type": "code",
   "execution_count": 49,
   "metadata": {},
   "outputs": [],
   "source": [
    "from sklearn.naive_bayes import GaussianNB"
   ]
  },
  {
   "cell_type": "code",
   "execution_count": 50,
   "metadata": {},
   "outputs": [],
   "source": [
    "nb=GaussianNB().fit(X_train_scaled,y_train)"
   ]
  },
  {
   "cell_type": "code",
   "execution_count": 51,
   "metadata": {
    "scrolled": false
   },
   "outputs": [
    {
     "name": "stdout",
     "output_type": "stream",
     "text": [
      "\u001b[1m          ****** RESULT ******  \u001b[0;0m\n",
      "\u001b[1m TEST Accuracy= \u001b[0m 0.7222222222222222\n",
      "\u001b[1m TEST Report=\n",
      " \u001b[0m               precision    recall  f1-score   support\n",
      "\n",
      "           0       0.70      0.92      0.80        53\n",
      "           1       0.80      0.43      0.56        37\n",
      "\n",
      "    accuracy                           0.72        90\n",
      "   macro avg       0.75      0.68      0.68        90\n",
      "weighted avg       0.74      0.72      0.70        90\n",
      " \n",
      "\n",
      "\u001b[1m TRAIN Accuracy= \u001b[0m 0.8277511961722488\n",
      "\u001b[1m TRAIN Report=\n",
      " \u001b[0m               precision    recall  f1-score   support\n",
      "\n",
      "           0       0.84      0.93      0.89       150\n",
      "           1       0.77      0.56      0.65        59\n",
      "\n",
      "    accuracy                           0.83       209\n",
      "   macro avg       0.81      0.75      0.77       209\n",
      "weighted avg       0.82      0.83      0.82       209\n",
      " \n",
      "\n",
      "\u001b[1m Cross Validation TEST:\n",
      " \u001b[0m 0.7444444444444445\n",
      "\u001b[1m Cross Validation TRAIN:\n",
      " \u001b[0m 0.7990708478513356 \n",
      "\n",
      "\u001b[1m ROC CURVES \u001b[0m\n"
     ]
    },
    {
     "data": {
      "image/png": "[encoded data removed]",
      "text/plain": [
       "<Figure size 432x288 with 1 Axes>"
      ]
     },
     "metadata": {
      "needs_background": "light"
     },
     "output_type": "display_data"
    },
    {
     "data": {
      "image/png": "[encoded data removed]",
      "text/plain": [
       "<Figure size 432x288 with 1 Axes>"
      ]
     },
     "metadata": {
      "needs_background": "light"
     },
     "output_type": "display_data"
    }
   ],
   "source": [
    "result(nb,X_train_scaled,X_test_scaled,y_train,y_test)"
   ]
  },
  {
   "cell_type": "markdown",
   "metadata": {},
   "source": [
    "#### SUPPORT VECTOR MACHINES"
   ]
  },
  {
   "cell_type": "code",
   "execution_count": 54,
   "metadata": {},
   "outputs": [
    {
     "data": {
      "text/plain": [
       "SVC(kernel='linear', probability=True)"
      ]
     },
     "execution_count": 54,
     "metadata": {},
     "output_type": "execute_result"
    }
   ],
   "source": [
    "from sklearn.svm import SVC\n",
    "svm_model = SVC(kernel = \"linear\",probability=True).fit(X_train_scaled, y_train)\n",
    "svm_model"
   ]
  },
  {
   "cell_type": "code",
   "execution_count": 55,
   "metadata": {
    "scrolled": true
   },
   "outputs": [
    {
     "name": "stdout",
     "output_type": "stream",
     "text": [
      "\u001b[1m          ****** RESULT ******  \u001b[0;0m\n",
      "\u001b[1m TEST Accuracy= \u001b[0m 0.7777777777777778\n",
      "\u001b[1m TEST Report=\n",
      " \u001b[0m               precision    recall  f1-score   support\n",
      "\n",
      "           0       0.76      0.91      0.83        53\n",
      "           1       0.81      0.59      0.69        37\n",
      "\n",
      "    accuracy                           0.78        90\n",
      "   macro avg       0.79      0.75      0.76        90\n",
      "weighted avg       0.78      0.78      0.77        90\n",
      " \n",
      "\n",
      "\u001b[1m TRAIN Accuracy= \u001b[0m 0.8564593301435407\n",
      "\u001b[1m TRAIN Report=\n",
      " \u001b[0m               precision    recall  f1-score   support\n",
      "\n",
      "           0       0.90      0.90      0.90       150\n",
      "           1       0.75      0.75      0.75        59\n",
      "\n",
      "    accuracy                           0.86       209\n",
      "   macro avg       0.82      0.82      0.82       209\n",
      "weighted avg       0.86      0.86      0.86       209\n",
      " \n",
      "\n",
      "\u001b[1m Cross Validation TEST:\n",
      " \u001b[0m 0.788888888888889\n",
      "\u001b[1m Cross Validation TRAIN:\n",
      " \u001b[0m 0.83739837398374 \n",
      "\n",
      "\u001b[1m ROC CURVES \u001b[0m\n"
     ]
    },
    {
     "data": {
      "image/png": "[encoded data removed]",
      "text/plain": [
       "<Figure size 432x288 with 1 Axes>"
      ]
     },
     "metadata": {
      "needs_background": "light"
     },
     "output_type": "display_data"
    },
    {
     "data": {
      "image/png": "[encoded data removed]",
      "text/plain": [
       "<Figure size 432x288 with 1 Axes>"
      ]
     },
     "metadata": {
      "needs_background": "light"
     },
     "output_type": "display_data"
    }
   ],
   "source": [
    "result(svm_model,X_train_scaled,X_test_scaled,y_train,y_test)"
   ]
  },
  {
   "cell_type": "markdown",
   "metadata": {},
   "source": [
    "#### TUNING"
   ]
  },
  {
   "cell_type": "markdown",
   "metadata": {},
   "source": [
    "For logistic regression, linear SVC and SVC, the grid search was applied but nothing change. So, this process was not shown. When we look at the train-test accuracy score results, we can see the difference like 0.08, 0.10.. etc. These difference show the the models not enough for the generalization. It can be happened beacuse of our data set size. Logistic regression, linear SVC, SVC perform well when the data set is large; and Naive Bayes performs well when high-dimensional data set. (After feature elimination we had 5 feature and sample size 299 is not large data set.)"
   ]
  },
  {
   "cell_type": "code",
   "execution_count": null,
   "metadata": {},
   "outputs": [],
   "source": []
  },
  {
   "cell_type": "code",
   "execution_count": null,
   "metadata": {},
   "outputs": [],
   "source": []
  },
  {
   "cell_type": "code",
   "execution_count": null,
   "metadata": {},
   "outputs": [],
   "source": []
  },
  {
   "cell_type": "code",
   "execution_count": null,
   "metadata": {},
   "outputs": [],
   "source": []
  }
 ],
 "metadata": {
  "kernelspec": {
   "display_name": "Python 3",
   "language": "python",
   "name": "python3"
  },
  "language_info": {
   "codemirror_mode": {
    "name": "ipython",
    "version": 3
   },
   "file_extension": ".py",
   "mimetype": "text/x-python",
   "name": "python",
   "nbconvert_exporter": "python",
   "pygments_lexer": "ipython3",
   "version": "3.7.6"
  }
 },
 "nbformat": 4,
 "nbformat_minor": 4
}
